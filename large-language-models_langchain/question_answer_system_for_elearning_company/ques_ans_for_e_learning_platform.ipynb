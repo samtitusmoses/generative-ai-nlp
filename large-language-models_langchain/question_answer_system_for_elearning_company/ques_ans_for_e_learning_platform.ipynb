{
 "cells": [
  {
   "cell_type": "code",
   "execution_count": 1,
   "id": "a1d97058",
   "metadata": {},
   "outputs": [],
   "source": [
    "#!pip install python-dotenv\n",
    "#!pip install google-generativeai\n",
    "#!pip install faiss-cpu"
   ]
  },
  {
   "cell_type": "code",
   "execution_count": 2,
   "id": "7a49a49e",
   "metadata": {},
   "outputs": [
    {
     "data": {
      "text/plain": [
       "True"
      ]
     },
     "execution_count": 2,
     "metadata": {},
     "output_type": "execute_result"
    }
   ],
   "source": [
    "# for getting google_api_key from the .env file\n",
    "import os\n",
    "from dotenv import load_dotenv\n",
    "load_dotenv()"
   ]
  },
  {
   "cell_type": "code",
   "execution_count": 3,
   "id": "25a19d46",
   "metadata": {},
   "outputs": [],
   "source": [
    "from langchain.llms import GooglePalm"
   ]
  },
  {
   "cell_type": "code",
   "execution_count": 4,
   "id": "51672d10",
   "metadata": {},
   "outputs": [],
   "source": [
    "llm=GooglePalm(google_api_key=os.environ[\"GOOGLE_API_KEY\"],temperature=0.1)"
   ]
  },
  {
   "cell_type": "markdown",
   "id": "920f246c",
   "metadata": {},
   "source": [
    "### Load data from FAQ csv file"
   ]
  },
  {
   "cell_type": "code",
   "execution_count": 5,
   "id": "b8888b60",
   "metadata": {},
   "outputs": [],
   "source": [
    "from langchain.document_loaders.csv_loader import CSVLoader"
   ]
  },
  {
   "cell_type": "code",
   "execution_count": 6,
   "id": "5420b049",
   "metadata": {},
   "outputs": [],
   "source": [
    "loader=CSVLoader(file_path='codebasics_faqs.csv', source_column=\"prompt\")\n",
    "doc=loader.load()"
   ]
  },
  {
   "cell_type": "code",
   "execution_count": 7,
   "id": "c7b42af3",
   "metadata": {},
   "outputs": [
    {
     "data": {
      "text/plain": [
       "list"
      ]
     },
     "execution_count": 7,
     "metadata": {},
     "output_type": "execute_result"
    }
   ],
   "source": [
    "type(doc)"
   ]
  },
  {
   "cell_type": "code",
   "execution_count": 8,
   "id": "41cb2e9e",
   "metadata": {},
   "outputs": [
    {
     "data": {
      "text/plain": [
       "Document(page_content='prompt: I have never done programming in my life. Can I take this bootcamp?\\nresponse: Yes, this is the perfect bootcamp for anyone who has never done coding and wants to build a career in the IT/Data Analytics industry or just wants to perform better in your current job or business using data.', metadata={'source': 'I have never done programming in my life. Can I take this bootcamp?', 'row': 0})"
      ]
     },
     "execution_count": 8,
     "metadata": {},
     "output_type": "execute_result"
    }
   ],
   "source": [
    "doc[0]"
   ]
  },
  {
   "cell_type": "code",
   "execution_count": 9,
   "id": "d6f2c504",
   "metadata": {},
   "outputs": [
    {
     "data": {
      "text/plain": [
       "'prompt: I have never done programming in my life. Can I take this bootcamp?\\nresponse: Yes, this is the perfect bootcamp for anyone who has never done coding and wants to build a career in the IT/Data Analytics industry or just wants to perform better in your current job or business using data.'"
      ]
     },
     "execution_count": 9,
     "metadata": {},
     "output_type": "execute_result"
    }
   ],
   "source": [
    "doc[0].page_content"
   ]
  },
  {
   "cell_type": "code",
   "execution_count": 10,
   "id": "e44761a7",
   "metadata": {},
   "outputs": [
    {
     "data": {
      "text/plain": [
       "{'source': 'I have never done programming in my life. Can I take this bootcamp?',\n",
       " 'row': 0}"
      ]
     },
     "execution_count": 10,
     "metadata": {},
     "output_type": "execute_result"
    }
   ],
   "source": [
    "doc[0].metadata"
   ]
  },
  {
   "cell_type": "markdown",
   "id": "2004b957",
   "metadata": {},
   "source": [
    "### Embedding"
   ]
  },
  {
   "cell_type": "code",
   "execution_count": 11,
   "id": "1424fef8",
   "metadata": {},
   "outputs": [],
   "source": [
    "from langchain.embeddings import GooglePalmEmbeddings"
   ]
  },
  {
   "cell_type": "code",
   "execution_count": 12,
   "id": "6f7b03f5",
   "metadata": {},
   "outputs": [],
   "source": [
    "google_embedding=GooglePalmEmbeddings(google_api_key=os.getenv('GOOGLE_API_KEY'))"
   ]
  },
  {
   "cell_type": "code",
   "execution_count": 13,
   "id": "3e67e28a",
   "metadata": {},
   "outputs": [
    {
     "name": "stdout",
     "output_type": "stream",
     "text": [
      "768\n"
     ]
    },
    {
     "data": {
      "text/plain": [
       "[-0.017065058, 0.025053214, -0.041459456, -0.011060075]"
      ]
     },
     "execution_count": 13,
     "metadata": {},
     "output_type": "execute_result"
    }
   ],
   "source": [
    "#Sample embedding\n",
    "e=google_embedding.embed_query(\"Sun rises in the east\")\n",
    "print(len(e))\n",
    "e[:4]"
   ]
  },
  {
   "cell_type": "markdown",
   "id": "e7c599db",
   "metadata": {},
   "source": [
    "## Vector Database using FAISS"
   ]
  },
  {
   "cell_type": "code",
   "execution_count": 14,
   "id": "5be15937",
   "metadata": {},
   "outputs": [],
   "source": [
    "from langchain.vectorstores import FAISS"
   ]
  },
  {
   "cell_type": "code",
   "execution_count": 15,
   "id": "974b0b03",
   "metadata": {},
   "outputs": [],
   "source": [
    "vectorDB=FAISS.from_documents(documents=doc, embedding=google_embedding)"
   ]
  },
  {
   "cell_type": "code",
   "execution_count": 16,
   "id": "475fc7fa",
   "metadata": {},
   "outputs": [
    {
     "data": {
      "text/plain": [
       "langchain.vectorstores.faiss.FAISS"
      ]
     },
     "execution_count": 16,
     "metadata": {},
     "output_type": "execute_result"
    }
   ],
   "source": [
    "type(vectorDB)"
   ]
  },
  {
   "cell_type": "code",
   "execution_count": 17,
   "id": "1aeeb6c3",
   "metadata": {},
   "outputs": [],
   "source": [
    "#Storing it in local drive\n",
    "vectorDB.save_local(\"VectorDB_file\")"
   ]
  },
  {
   "cell_type": "markdown",
   "id": "d593f7ca",
   "metadata": {},
   "source": [
    "## Load from saved VectorDB and create Retriever from it"
   ]
  },
  {
   "cell_type": "code",
   "execution_count": 18,
   "id": "19a20856",
   "metadata": {},
   "outputs": [],
   "source": [
    "# Loading from the saved VectorDB\n",
    "\n",
    "vectorDB_saved=FAISS.load_local(\"VectorDB_file\",google_embedding)"
   ]
  },
  {
   "cell_type": "code",
   "execution_count": 19,
   "id": "19c8a65b",
   "metadata": {},
   "outputs": [],
   "source": [
    "#Create an Retriever object for querying the vector database\n",
    "\n",
    "retriever=vectorDB_saved.as_retriever(score_threshold=0.7)"
   ]
  },
  {
   "cell_type": "markdown",
   "id": "eeba3ace",
   "metadata": {},
   "source": [
    "## Prompt Engineering and Creating RetrievalQA chain"
   ]
  },
  {
   "cell_type": "code",
   "execution_count": 20,
   "id": "8c260916",
   "metadata": {},
   "outputs": [
    {
     "data": {
      "text/plain": [
       "PromptTemplate(input_variables=['context', 'question'], template='Given the following context and a question, generate an answer based on this context only.\\nIn the answer try to provide as much text as possible from \"response\" section in the source document context without making much changes.\\nIf the answer is not found in the context, kindly state \"I don\\'t know.\" Don\\'t try to make up an answer.\\n\\nCONTEXT: {context}\\n\\nQUESTION: {question}')"
      ]
     },
     "execution_count": 20,
     "metadata": {},
     "output_type": "execute_result"
    }
   ],
   "source": [
    "from langchain.prompts import PromptTemplate\n",
    "\n",
    "prompt_template = \"\"\"Given the following context and a question, generate an answer based on this context only.\n",
    "In the answer try to provide as much text as possible from \"response\" section in the source document context without making much changes.\n",
    "If the answer is not found in the context, kindly state \"I don't know.\" Don't try to make up an answer.\n",
    "\n",
    "CONTEXT: {context}\n",
    "\n",
    "QUESTION: {question}\"\"\"\n",
    "\n",
    "prompt=PromptTemplate(template=prompt_template, input_variables=[\"context\", \"question\"])\n",
    "prompt"
   ]
  },
  {
   "cell_type": "code",
   "execution_count": 21,
   "id": "5a84d800",
   "metadata": {},
   "outputs": [],
   "source": [
    "from langchain.chains import RetrievalQA\n",
    "\n",
    "chain=RetrievalQA.from_chain_type(\n",
    "    llm=llm,\n",
    "    chain_type=\"stuff\",\n",
    "    retriever=retriever,\n",
    "    input_key=\"query\",\n",
    "    return_source_documents=True,\n",
    "    chain_type_kwargs={\"prompt\":prompt}\n",
    ")"
   ]
  },
  {
   "cell_type": "code",
   "execution_count": 22,
   "id": "840d53e1",
   "metadata": {},
   "outputs": [],
   "source": [
    "# Final response\n",
    "\n",
    "def response(user_query):\n",
    "    res=chain(user_query)\n",
    "    return res['result']"
   ]
  },
  {
   "cell_type": "markdown",
   "id": "14ec3b3e",
   "metadata": {},
   "source": [
    "Sample Responses"
   ]
  },
  {
   "cell_type": "code",
   "execution_count": 26,
   "id": "a121cc2b",
   "metadata": {},
   "outputs": [
    {
     "data": {
      "text/plain": [
       "'Yes, We help you with resume and interview preparation along with that we help you in building online credibility, and based on requirements we refer candidates to potential recruiters. The courses included in this bootcamp are done by 9000+ learners and many of them have secured a job which gives us ample confidence that you will be able to get a job. However, we want to be honest and do not want to make any impractical promises! Our guarantee is to prepare you for the job market by teaching the most relevant skills, knowledge & timeless principles good enough to fetch the job.'"
      ]
     },
     "execution_count": 26,
     "metadata": {},
     "output_type": "execute_result"
    }
   ],
   "source": [
    "response('Do you provide job assistance and also do you provide job gurantee?')"
   ]
  },
  {
   "cell_type": "code",
   "execution_count": 27,
   "id": "f52b11d4",
   "metadata": {},
   "outputs": [
    {
     "data": {
      "text/plain": [
       "'No'"
      ]
     },
     "execution_count": 27,
     "metadata": {},
     "output_type": "execute_result"
    }
   ],
   "source": [
    "response('Did you provide EMI option?')"
   ]
  },
  {
   "cell_type": "code",
   "execution_count": 28,
   "id": "69d55416",
   "metadata": {},
   "outputs": [
    {
     "data": {
      "text/plain": [
       "'As promised we will give you a 100% refund based on the guidelines (Please refer to our course refund policy before enrolling).'"
      ]
     },
     "execution_count": 28,
     "metadata": {},
     "output_type": "execute_result"
    }
   ],
   "source": [
    "response('Explain about refund policy?')"
   ]
  },
  {
   "cell_type": "code",
   "execution_count": 29,
   "id": "fd589ce1",
   "metadata": {},
   "outputs": [
    {
     "data": {
      "text/plain": [
       "'Yes, we have Python courses.'"
      ]
     },
     "execution_count": 29,
     "metadata": {},
     "output_type": "execute_result"
    }
   ],
   "source": [
    "response(\"Do you have Python courses?\")"
   ]
  },
  {
   "cell_type": "code",
   "execution_count": 30,
   "id": "2bbead10",
   "metadata": {},
   "outputs": [
    {
     "data": {
      "text/plain": [
       "'The courses included in this bootcamp are done by 9000+ learners and many of them have secured a job which gives us ample confidence that you will be able to get a job. However, we want to be honest and do not want to make any impractical promises! Our guarantee is to prepare you for the job market by teaching the most relevant skills, knowledge & timeless principles good enough to fetch the job.'"
      ]
     },
     "execution_count": 30,
     "metadata": {},
     "output_type": "execute_result"
    }
   ],
   "source": [
    "response(\"Will I get job guarantee?\")"
   ]
  },
  {
   "cell_type": "code",
   "execution_count": 31,
   "id": "dee5fedb",
   "metadata": {},
   "outputs": [
    {
     "data": {
      "text/plain": [
       "'You can complete all courses in 3 months if you dedicate 2-3 hours per day.'"
      ]
     },
     "execution_count": 31,
     "metadata": {},
     "output_type": "execute_result"
    }
   ],
   "source": [
    "response(\"What is the duration of the course?\")"
   ]
  },
  {
   "cell_type": "code",
   "execution_count": null,
   "id": "da01b12f",
   "metadata": {},
   "outputs": [],
   "source": []
  },
  {
   "cell_type": "markdown",
   "id": "0ba928b4",
   "metadata": {},
   "source": [
    "### Source & Reference: https://www.youtube.com/watch?v=AjQPRomyd-k&list=PLeo1K3hjS3uu0N_0W6giDXzZIcB07Ng_F&index=4&ab_channel=codebasics "
   ]
  }
 ],
 "metadata": {
  "kernelspec": {
   "display_name": "Python 3 (ipykernel)",
   "language": "python",
   "name": "python3"
  },
  "language_info": {
   "codemirror_mode": {
    "name": "ipython",
    "version": 3
   },
   "file_extension": ".py",
   "mimetype": "text/x-python",
   "name": "python",
   "nbconvert_exporter": "python",
   "pygments_lexer": "ipython3",
   "version": "3.10.9"
  }
 },
 "nbformat": 4,
 "nbformat_minor": 5
}
