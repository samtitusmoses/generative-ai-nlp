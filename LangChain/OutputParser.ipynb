{
 "cells": [
  {
   "cell_type": "markdown",
   "id": "94f3bf68",
   "metadata": {},
   "source": [
    "# List Parser"
   ]
  },
  {
   "cell_type": "code",
   "execution_count": 1,
   "id": "425539fe",
   "metadata": {},
   "outputs": [],
   "source": [
    "from langchain.llms import OpenAI\n",
    "from langchain.prompts import PromptTemplate\n",
    "from langchain.output_parsers import CommaSeparatedListOutputParser\n",
    "\n",
    "from api_key import key   #openai api key was saved here "
   ]
  },
  {
   "cell_type": "code",
   "execution_count": 2,
   "id": "a8230c66",
   "metadata": {},
   "outputs": [],
   "source": [
    "llm=OpenAI(temperature=0.0, openai_api_key=key)\n",
    "output_parser=CommaSeparatedListOutputParser()\n",
    "format_instruct=output_parser.get_format_instructions()"
   ]
  },
  {
   "cell_type": "code",
   "execution_count": 3,
   "id": "595efb8a",
   "metadata": {},
   "outputs": [
    {
     "data": {
      "text/plain": [
       "PromptTemplate(input_variables=['subject'], partial_variables={'format_instructions': 'Your response should be a list of comma separated values, eg: `foo, bar, baz`'}, template='List five {subject}.\\n{format_instructions}')"
      ]
     },
     "execution_count": 3,
     "metadata": {},
     "output_type": "execute_result"
    }
   ],
   "source": [
    "template=\"List five {subject}.\\n{format_instructions}\"\n",
    "prompt=PromptTemplate(\n",
    "    template=template,\n",
    "    input_variables=[\"subject\"],\n",
    "    partial_variables={\"format_instructions\":format_instruct}\n",
    ")\n",
    "prompt"
   ]
  },
  {
   "cell_type": "code",
   "execution_count": 6,
   "id": "9125c03f",
   "metadata": {},
   "outputs": [
    {
     "name": "stdout",
     "output_type": "stream",
     "text": [
      "\n",
      "\n",
      "Pacific Ocean, Atlantic Ocean, Indian Ocean, Southern Ocean, Arctic Ocean\n",
      "<class 'str'>\n"
     ]
    }
   ],
   "source": [
    "output=llm(prompt.format(subject=\"Oceans\"))\n",
    "print(output)\n",
    "print(type(output))"
   ]
  },
  {
   "cell_type": "code",
   "execution_count": 7,
   "id": "e2f71bd3",
   "metadata": {},
   "outputs": [
    {
     "name": "stdout",
     "output_type": "stream",
     "text": [
      "['Pacific Ocean', 'Atlantic Ocean', 'Indian Ocean', 'Southern Ocean', 'Arctic Ocean']\n",
      "<class 'list'>\n"
     ]
    }
   ],
   "source": [
    "parsed_output=output_parser.parse(output)\n",
    "print(parsed_output)\n",
    "print(type(parsed_output))"
   ]
  },
  {
   "cell_type": "markdown",
   "id": "bfa1b12d",
   "metadata": {},
   "source": [
    "# Date Time Parser"
   ]
  },
  {
   "cell_type": "code",
   "execution_count": 8,
   "id": "cc4e91e9",
   "metadata": {},
   "outputs": [],
   "source": [
    "from langchain.output_parsers import DatetimeOutputParser"
   ]
  },
  {
   "cell_type": "code",
   "execution_count": 9,
   "id": "b094f40c",
   "metadata": {},
   "outputs": [],
   "source": [
    "output_parser=DatetimeOutputParser()"
   ]
  },
  {
   "cell_type": "code",
   "execution_count": 15,
   "id": "d8f9009e",
   "metadata": {},
   "outputs": [
    {
     "data": {
      "text/plain": [
       "PromptTemplate(input_variables=['Obj'], partial_variables={'format_instruction': 'Write a datetime string that matches the \\n            following pattern: \"%Y-%m-%dT%H:%M:%S.%fZ\". Examples: 1157-02-03T21:46:18.609749Z, 0681-10-28T01:09:38.646809Z, 0784-11-03T07:22:21.406254Z'}, template='When was {Obj} invented?\\n{format_instruction}')"
      ]
     },
     "execution_count": 15,
     "metadata": {},
     "output_type": "execute_result"
    }
   ],
   "source": [
    "template=\"When was {Obj} invented?\\n{format_instruction}\"\n",
    "\n",
    "prompt=PromptTemplate(template=template,input_variables=[\"Obj\"],partial_variables={\"format_instruction\":output_parser.get_format_instructions()})\n",
    "\n",
    "prompt"
   ]
  },
  {
   "cell_type": "code",
   "execution_count": 23,
   "id": "f32183ea",
   "metadata": {},
   "outputs": [
    {
     "name": "stdout",
     "output_type": "stream",
     "text": [
      "\n",
      "\n",
      "2007-06-29T09:41:00.000000Z\n",
      "<class 'str'>\n"
     ]
    }
   ],
   "source": [
    "output=llm(prompt.format(Obj=\"Apple iPhone\"))\n",
    "print(output)\n",
    "print(type(output))"
   ]
  },
  {
   "cell_type": "code",
   "execution_count": 24,
   "id": "ea1a6bac",
   "metadata": {},
   "outputs": [
    {
     "name": "stdout",
     "output_type": "stream",
     "text": [
      "2007-06-29 09:41:00\n",
      "<class 'datetime.datetime'>\n"
     ]
    }
   ],
   "source": [
    "parsed_output=output_parser.parse(output)\n",
    "print(parsed_output)\n",
    "print(type(parsed_output))"
   ]
  },
  {
   "cell_type": "code",
   "execution_count": null,
   "id": "7ad78dab",
   "metadata": {},
   "outputs": [],
   "source": []
  }
 ],
 "metadata": {
  "kernelspec": {
   "display_name": "Python 3 (ipykernel)",
   "language": "python",
   "name": "python3"
  },
  "language_info": {
   "codemirror_mode": {
    "name": "ipython",
    "version": 3
   },
   "file_extension": ".py",
   "mimetype": "text/x-python",
   "name": "python",
   "nbconvert_exporter": "python",
   "pygments_lexer": "ipython3",
   "version": "3.10.9"
  }
 },
 "nbformat": 4,
 "nbformat_minor": 5
}
